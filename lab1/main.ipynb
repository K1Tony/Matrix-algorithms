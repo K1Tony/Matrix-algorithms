{
 "cells": [
  {
   "cell_type": "code",
   "execution_count": 2,
   "id": "initial_id",
   "metadata": {
    "ExecuteTime": {
     "end_time": "2024-10-21T14:52:43.710262Z",
     "start_time": "2024-10-21T14:52:42.967478Z"
    },
    "execution": {
     "iopub.execute_input": "2024-10-21T14:53:59.532526Z",
     "iopub.status.busy": "2024-10-21T14:53:59.531765Z",
     "iopub.status.idle": "2024-10-21T14:54:00.131322Z",
     "shell.execute_reply": "2024-10-21T14:54:00.130801Z",
     "shell.execute_reply.started": "2024-10-21T14:53:59.532479Z"
    }
   },
   "outputs": [],
   "source": [
    "import numpy as np\n",
    "import pandas as pd\n",
    "from matplotlib import pyplot as plt\n",
    "from binet import binet, Number, random_matrix\n",
    "import time"
   ]
  },
  {
   "cell_type": "code",
   "execution_count": 3,
   "id": "a2ee5bb2f42a51e2",
   "metadata": {
    "ExecuteTime": {
     "end_time": "2024-10-21T14:52:43.714455Z",
     "start_time": "2024-10-21T14:52:43.711559Z"
    },
    "execution": {
     "iopub.execute_input": "2024-10-21T14:54:00.135003Z",
     "iopub.status.busy": "2024-10-21T14:54:00.134855Z",
     "iopub.status.idle": "2024-10-21T14:54:00.137841Z",
     "shell.execute_reply": "2024-10-21T14:54:00.137411Z",
     "shell.execute_reply.started": "2024-10-21T14:54:00.134990Z"
    }
   },
   "outputs": [],
   "source": [
    "def reset_number_counter() -> None:\n",
    "    Number.add_count = 0\n",
    "    Number.sub_count = 0\n",
    "    Number.mul_count = 0\n",
    "    Number.div_count = 0"
   ]
  },
  {
   "cell_type": "code",
   "execution_count": 4,
   "id": "22bb252d-9421-4313-bd5e-763233f34e32",
   "metadata": {
    "ExecuteTime": {
     "end_time": "2024-10-21T14:52:43.720218Z",
     "start_time": "2024-10-21T14:52:43.715543Z"
    },
    "execution": {
     "iopub.execute_input": "2024-10-21T14:54:00.526545Z",
     "iopub.status.busy": "2024-10-21T14:54:00.526173Z",
     "iopub.status.idle": "2024-10-21T14:54:00.532759Z",
     "shell.execute_reply": "2024-10-21T14:54:00.531699Z",
     "shell.execute_reply.started": "2024-10-21T14:54:00.526516Z"
    }
   },
   "outputs": [],
   "source": [
    "type operation_count = tuple[int, int, int, int]\n",
    "\n",
    "def analyse_matmul(A: np.ndarray, B: np.ndarray) -> tuple[operation_count, float]:\n",
    "    start = time.time()\n",
    "    binet(A, B)\n",
    "    duration = time.time() - start\n",
    "\n",
    "    ops = Number.add_count, Number.sub_count, Number.mul_count, Number.div_count\n",
    "    reset_number_counter()\n",
    "\n",
    "    return ops, duration"
   ]
  },
  {
   "cell_type": "code",
   "execution_count": 5,
   "id": "99083cbe-9c5f-4c98-ab23-17a2efa40c0b",
   "metadata": {
    "ExecuteTime": {
     "end_time": "2024-10-21T14:52:50.690277Z",
     "start_time": "2024-10-21T14:52:43.721671Z"
    },
    "execution": {
     "iopub.execute_input": "2024-10-21T14:54:00.834020Z",
     "iopub.status.busy": "2024-10-21T14:54:00.833633Z",
     "iopub.status.idle": "2024-10-21T14:54:55.842938Z",
     "shell.execute_reply": "2024-10-21T14:54:55.842475Z",
     "shell.execute_reply.started": "2024-10-21T14:54:00.833990Z"
    }
   },
   "outputs": [
    {
     "data": {
      "text/html": [
       "<div>\n",
       "<style scoped>\n",
       "    .dataframe tbody tr th:only-of-type {\n",
       "        vertical-align: middle;\n",
       "    }\n",
       "\n",
       "    .dataframe tbody tr th {\n",
       "        vertical-align: top;\n",
       "    }\n",
       "\n",
       "    .dataframe thead th {\n",
       "        text-align: right;\n",
       "    }\n",
       "</style>\n",
       "<table border=\"1\" class=\"dataframe\">\n",
       "  <thead>\n",
       "    <tr style=\"text-align: right;\">\n",
       "      <th></th>\n",
       "      <th>A.size</th>\n",
       "      <th>B.size</th>\n",
       "      <th>Time</th>\n",
       "      <th>Additions</th>\n",
       "      <th>Subtractions</th>\n",
       "      <th>Multiplications</th>\n",
       "      <th>Divisions</th>\n",
       "    </tr>\n",
       "  </thead>\n",
       "  <tbody>\n",
       "    <tr>\n",
       "      <th>0</th>\n",
       "      <td>1</td>\n",
       "      <td>1</td>\n",
       "      <td>0.000027</td>\n",
       "      <td>0</td>\n",
       "      <td>0</td>\n",
       "      <td>1</td>\n",
       "      <td>0</td>\n",
       "    </tr>\n",
       "    <tr>\n",
       "      <th>10</th>\n",
       "      <td>11</td>\n",
       "      <td>11</td>\n",
       "      <td>0.004267</td>\n",
       "      <td>1210</td>\n",
       "      <td>0</td>\n",
       "      <td>1331</td>\n",
       "      <td>0</td>\n",
       "    </tr>\n",
       "    <tr>\n",
       "      <th>20</th>\n",
       "      <td>21</td>\n",
       "      <td>21</td>\n",
       "      <td>0.034256</td>\n",
       "      <td>8820</td>\n",
       "      <td>0</td>\n",
       "      <td>9261</td>\n",
       "      <td>0</td>\n",
       "    </tr>\n",
       "    <tr>\n",
       "      <th>30</th>\n",
       "      <td>31</td>\n",
       "      <td>31</td>\n",
       "      <td>0.053025</td>\n",
       "      <td>28830</td>\n",
       "      <td>0</td>\n",
       "      <td>29791</td>\n",
       "      <td>0</td>\n",
       "    </tr>\n",
       "    <tr>\n",
       "      <th>40</th>\n",
       "      <td>41</td>\n",
       "      <td>41</td>\n",
       "      <td>0.143857</td>\n",
       "      <td>67240</td>\n",
       "      <td>0</td>\n",
       "      <td>68921</td>\n",
       "      <td>0</td>\n",
       "    </tr>\n",
       "    <tr>\n",
       "      <th>50</th>\n",
       "      <td>51</td>\n",
       "      <td>51</td>\n",
       "      <td>0.207125</td>\n",
       "      <td>130050</td>\n",
       "      <td>0</td>\n",
       "      <td>132651</td>\n",
       "      <td>0</td>\n",
       "    </tr>\n",
       "    <tr>\n",
       "      <th>60</th>\n",
       "      <td>61</td>\n",
       "      <td>61</td>\n",
       "      <td>0.263077</td>\n",
       "      <td>223260</td>\n",
       "      <td>0</td>\n",
       "      <td>226981</td>\n",
       "      <td>0</td>\n",
       "    </tr>\n",
       "    <tr>\n",
       "      <th>70</th>\n",
       "      <td>71</td>\n",
       "      <td>71</td>\n",
       "      <td>0.399072</td>\n",
       "      <td>352870</td>\n",
       "      <td>0</td>\n",
       "      <td>357911</td>\n",
       "      <td>0</td>\n",
       "    </tr>\n",
       "    <tr>\n",
       "      <th>80</th>\n",
       "      <td>81</td>\n",
       "      <td>81</td>\n",
       "      <td>0.742644</td>\n",
       "      <td>524880</td>\n",
       "      <td>0</td>\n",
       "      <td>531441</td>\n",
       "      <td>0</td>\n",
       "    </tr>\n",
       "    <tr>\n",
       "      <th>90</th>\n",
       "      <td>91</td>\n",
       "      <td>91</td>\n",
       "      <td>1.192459</td>\n",
       "      <td>745290</td>\n",
       "      <td>0</td>\n",
       "      <td>753571</td>\n",
       "      <td>0</td>\n",
       "    </tr>\n",
       "    <tr>\n",
       "      <th>100</th>\n",
       "      <td>101</td>\n",
       "      <td>101</td>\n",
       "      <td>1.593401</td>\n",
       "      <td>1020100</td>\n",
       "      <td>0</td>\n",
       "      <td>1030301</td>\n",
       "      <td>0</td>\n",
       "    </tr>\n",
       "    <tr>\n",
       "      <th>110</th>\n",
       "      <td>111</td>\n",
       "      <td>111</td>\n",
       "      <td>1.845997</td>\n",
       "      <td>1355310</td>\n",
       "      <td>0</td>\n",
       "      <td>1367631</td>\n",
       "      <td>0</td>\n",
       "    </tr>\n",
       "    <tr>\n",
       "      <th>120</th>\n",
       "      <td>121</td>\n",
       "      <td>121</td>\n",
       "      <td>2.182569</td>\n",
       "      <td>1756920</td>\n",
       "      <td>0</td>\n",
       "      <td>1771561</td>\n",
       "      <td>0</td>\n",
       "    </tr>\n",
       "    <tr>\n",
       "      <th>130</th>\n",
       "      <td>131</td>\n",
       "      <td>131</td>\n",
       "      <td>2.675013</td>\n",
       "      <td>2230930</td>\n",
       "      <td>0</td>\n",
       "      <td>2248091</td>\n",
       "      <td>0</td>\n",
       "    </tr>\n",
       "    <tr>\n",
       "      <th>140</th>\n",
       "      <td>141</td>\n",
       "      <td>141</td>\n",
       "      <td>3.315950</td>\n",
       "      <td>2783340</td>\n",
       "      <td>0</td>\n",
       "      <td>2803221</td>\n",
       "      <td>0</td>\n",
       "    </tr>\n",
       "    <tr>\n",
       "      <th>150</th>\n",
       "      <td>151</td>\n",
       "      <td>151</td>\n",
       "      <td>4.501262</td>\n",
       "      <td>3420150</td>\n",
       "      <td>0</td>\n",
       "      <td>3442951</td>\n",
       "      <td>0</td>\n",
       "    </tr>\n",
       "    <tr>\n",
       "      <th>160</th>\n",
       "      <td>161</td>\n",
       "      <td>161</td>\n",
       "      <td>6.052296</td>\n",
       "      <td>4147360</td>\n",
       "      <td>0</td>\n",
       "      <td>4173281</td>\n",
       "      <td>0</td>\n",
       "    </tr>\n",
       "    <tr>\n",
       "      <th>170</th>\n",
       "      <td>171</td>\n",
       "      <td>171</td>\n",
       "      <td>8.161587</td>\n",
       "      <td>4970970</td>\n",
       "      <td>0</td>\n",
       "      <td>5000211</td>\n",
       "      <td>0</td>\n",
       "    </tr>\n",
       "    <tr>\n",
       "      <th>180</th>\n",
       "      <td>181</td>\n",
       "      <td>181</td>\n",
       "      <td>9.618575</td>\n",
       "      <td>5896980</td>\n",
       "      <td>0</td>\n",
       "      <td>5929741</td>\n",
       "      <td>0</td>\n",
       "    </tr>\n",
       "    <tr>\n",
       "      <th>190</th>\n",
       "      <td>191</td>\n",
       "      <td>191</td>\n",
       "      <td>11.736557</td>\n",
       "      <td>6931390</td>\n",
       "      <td>0</td>\n",
       "      <td>6967871</td>\n",
       "      <td>0</td>\n",
       "    </tr>\n",
       "  </tbody>\n",
       "</table>\n",
       "</div>"
      ],
      "text/plain": [
       "     A.size  B.size       Time  Additions  Subtractions  Multiplications  \\\n",
       "0         1       1   0.000027          0             0                1   \n",
       "10       11      11   0.004267       1210             0             1331   \n",
       "20       21      21   0.034256       8820             0             9261   \n",
       "30       31      31   0.053025      28830             0            29791   \n",
       "40       41      41   0.143857      67240             0            68921   \n",
       "50       51      51   0.207125     130050             0           132651   \n",
       "60       61      61   0.263077     223260             0           226981   \n",
       "70       71      71   0.399072     352870             0           357911   \n",
       "80       81      81   0.742644     524880             0           531441   \n",
       "90       91      91   1.192459     745290             0           753571   \n",
       "100     101     101   1.593401    1020100             0          1030301   \n",
       "110     111     111   1.845997    1355310             0          1367631   \n",
       "120     121     121   2.182569    1756920             0          1771561   \n",
       "130     131     131   2.675013    2230930             0          2248091   \n",
       "140     141     141   3.315950    2783340             0          2803221   \n",
       "150     151     151   4.501262    3420150             0          3442951   \n",
       "160     161     161   6.052296    4147360             0          4173281   \n",
       "170     171     171   8.161587    4970970             0          5000211   \n",
       "180     181     181   9.618575    5896980             0          5929741   \n",
       "190     191     191  11.736557    6931390             0          6967871   \n",
       "\n",
       "     Divisions  \n",
       "0            0  \n",
       "10           0  \n",
       "20           0  \n",
       "30           0  \n",
       "40           0  \n",
       "50           0  \n",
       "60           0  \n",
       "70           0  \n",
       "80           0  \n",
       "90           0  \n",
       "100          0  \n",
       "110          0  \n",
       "120          0  \n",
       "130          0  \n",
       "140          0  \n",
       "150          0  \n",
       "160          0  \n",
       "170          0  \n",
       "180          0  \n",
       "190          0  "
      ]
     },
     "execution_count": 5,
     "metadata": {},
     "output_type": "execute_result"
    }
   ],
   "source": [
    "df = pd.DataFrame(columns=[\"A.size\", \"B.size\", \"Time\", \"Additions\", \"Subtractions\", \"Multiplications\", \"Divisions\"])\n",
    "\n",
    "for i in range(1, 200, 10):\n",
    "    A = random_matrix(i)\n",
    "    B = random_matrix(i)\n",
    "\n",
    "    (add, sub, mul, div), duration = analyse_matmul(A, B)\n",
    "    df.loc[i - 1] = {\"A.size\": A.shape[0], \"B.size\": B.shape[0], \"Time\": duration, \"Additions\": add, \"Subtractions\": sub, \"Multiplications\": mul, \"Divisions\": div}\n",
    "df"
   ]
  },
  {
   "cell_type": "code",
   "execution_count": 11,
   "id": "8067dd49-21cb-4720-ba41-8eef2f5d1e81",
   "metadata": {
    "ExecuteTime": {
     "end_time": "2024-10-21T14:52:50.833054Z",
     "start_time": "2024-10-21T14:52:50.691574Z"
    },
    "execution": {
     "iopub.execute_input": "2024-10-21T15:03:40.016931Z",
     "iopub.status.busy": "2024-10-21T15:03:40.016502Z",
     "iopub.status.idle": "2024-10-21T15:03:40.158414Z",
     "shell.execute_reply": "2024-10-21T15:03:40.157772Z",
     "shell.execute_reply.started": "2024-10-21T15:03:40.016899Z"
    }
   },
   "outputs": [
    {
     "data": {
      "text/plain": [
       "Text(0, 0.5, 'Time [s]')"
      ]
     },
     "execution_count": 11,
     "metadata": {},
     "output_type": "execute_result"
    },
    {
     "data": {
      "image/png": "[encoded data removed]",
      "text/plain": [
       "<Figure size 640x480 with 1 Axes>"
      ]
     },
     "metadata": {},
     "output_type": "display_data"
    }
   ],
   "source": [
    "X = df[\"A.size\"]\n",
    "\n",
    "plt.plot(X, df[\"Time\"], marker=\"o\", color=\"blue\", label=\"Multiplication time\")\n",
    "plt.xlabel(\"Matrix size\")\n",
    "plt.ylabel(\"Time [s]\")"
   ]
  },
  {
   "cell_type": "code",
   "execution_count": 22,
   "id": "15d2340d-dbac-4256-8396-4abdaf8ca6d2",
   "metadata": {
    "ExecuteTime": {
     "end_time": "2024-10-21T14:52:50.835898Z",
     "start_time": "2024-10-21T14:52:50.833983Z"
    },
    "execution": {
     "iopub.execute_input": "2024-10-21T15:10:16.809978Z",
     "iopub.status.busy": "2024-10-21T15:10:16.809525Z",
     "iopub.status.idle": "2024-10-21T15:10:17.003620Z",
     "shell.execute_reply": "2024-10-21T15:10:17.003163Z",
     "shell.execute_reply.started": "2024-10-21T15:10:16.809944Z"
    }
   },
   "outputs": [
    {
     "data": {
      "text/plain": [
       "<matplotlib.legend.Legend at 0x7e1e79624d10>"
      ]
     },
     "execution_count": 22,
     "metadata": {},
     "output_type": "execute_result"
    },
    {
     "data": {
      "image/png": "[encoded data removed]",
      "text/plain": [
       "<Figure size 640x480 with 1 Axes>"
      ]
     },
     "metadata": {},
     "output_type": "display_data"
    }
   ],
   "source": [
    "plt.plot(X, df[\"Additions\"], marker=\"o\", color=\"blue\", label=\"Additions\")\n",
    "plt.plot(X, df[\"Multiplications\"], color=\"red\", label=\"Multiplications\", linewidth=3, linestyle=\"--\")\n",
    "plt.plot(X, df[\"Additions\"] + df[\"Multiplications\"], color=\"green\", marker=\"o\", label=\"All float operations\")\n",
    "\n",
    "plt.legend()"
   ]
  },
  {
   "cell_type": "code",
   "execution_count": null,
   "id": "3e690f9d-e55e-4b94-8ec0-ad2f53cc1f2c",
   "metadata": {},
   "outputs": [],
   "source": []
  }
 ],
 "metadata": {
  "kernelspec": {
   "display_name": "Python 3 (ipykernel)",
   "language": "python",
   "name": "python3"
  },
  "language_info": {
   "codemirror_mode": {
    "name": "ipython",
    "version": 3
   },
   "file_extension": ".py",
   "mimetype": "text/x-python",
   "name": "python",
   "nbconvert_exporter": "python",
   "pygments_lexer": "ipython3",
   "version": "3.12.7"
  }
 },
 "nbformat": 4,
 "nbformat_minor": 5
}
