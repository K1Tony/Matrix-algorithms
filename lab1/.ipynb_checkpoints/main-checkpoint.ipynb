{
 "cells": [
  {
   "cell_type": "code",
   "id": "initial_id",
   "metadata": {
    "collapsed": true,
    "ExecuteTime": {
     "end_time": "2024-10-21T08:36:51.726531Z",
     "start_time": "2024-10-21T08:36:51.399846Z"
    }
   },
   "source": [
    "import numpy as np\n",
    "from matplotlib import pyplot as plt\n",
    "from binet import binet, Number, random_matrix"
   ],
   "outputs": [
    {
     "name": "stdout",
     "output_type": "stream",
     "text": [
      "def test_2x2(self):\n",
      "A, B = random_matrix(1, 0, 10, np.random.randint), random_matrix(1, 0, 10, np.random.randint)\n",
      "self.assertTrue(np.all(A @ B == binet(A, B)))\n",
      "\n",
      "def test_4x4(self):\n",
      "A, B = random_matrix(2, 0, 10, np.random.randint), random_matrix(2, 0, 10, np.random.randint)\n",
      "self.assertTrue(np.all(A @ B == binet(A, B)))\n",
      "\n",
      "def test_8x8(self):\n",
      "A, B = random_matrix(3, 0, 10, np.random.randint), random_matrix(3, 0, 10, np.random.randint)\n",
      "self.assertTrue(np.all(A @ B == binet(A, B)))\n",
      "\n",
      "def test_16x16(self):\n",
      "A, B = random_matrix(4, 0, 10, np.random.randint), random_matrix(4, 0, 10, np.random.randint)\n",
      "self.assertTrue(np.all(A @ B == binet(A, B)))\n",
      "\n",
      "def test_32x32(self):\n",
      "A, B = random_matrix(5, 0, 10, np.random.randint), random_matrix(5, 0, 10, np.random.randint)\n",
      "self.assertTrue(np.all(A @ B == binet(A, B)))\n",
      "\n",
      "def test_64x64(self):\n",
      "A, B = random_matrix(6, 0, 10, np.random.randint), random_matrix(6, 0, 10, np.random.randint)\n",
      "self.assertTrue(np.all(A @ B == binet(A, B)))\n",
      "\n",
      "def test_128x128(self):\n",
      "A, B = random_matrix(7, 0, 10, np.random.randint), random_matrix(7, 0, 10, np.random.randint)\n",
      "self.assertTrue(np.all(A @ B == binet(A, B)))\n",
      "\n",
      "def test_256x256(self):\n",
      "A, B = random_matrix(8, 0, 10, np.random.randint), random_matrix(8, 0, 10, np.random.randint)\n",
      "self.assertTrue(np.all(A @ B == binet(A, B)))\n",
      "\n",
      "def test_512x512(self):\n",
      "A, B = random_matrix(9, 0, 10, np.random.randint), random_matrix(9, 0, 10, np.random.randint)\n",
      "self.assertTrue(np.all(A @ B == binet(A, B)))\n",
      "\n",
      "\n"
     ]
    }
   ],
   "execution_count": 1
  },
  {
   "metadata": {},
   "cell_type": "code",
   "outputs": [],
   "execution_count": null,
   "source": "",
   "id": "a2ee5bb2f42a51e2"
  }
 ],
 "metadata": {
  "kernelspec": {
   "display_name": "Python 3",
   "language": "python",
   "name": "python3"
  },
  "language_info": {
   "codemirror_mode": {
    "name": "ipython",
    "version": 2
   },
   "file_extension": ".py",
   "mimetype": "text/x-python",
   "name": "python",
   "nbconvert_exporter": "python",
   "pygments_lexer": "ipython2",
   "version": "2.7.6"
  }
 },
 "nbformat": 4,
 "nbformat_minor": 5
}
